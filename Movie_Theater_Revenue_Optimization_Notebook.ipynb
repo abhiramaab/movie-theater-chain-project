{
 "cells": [
  {
   "cell_type": "markdown",
   "id": "b6e51aa0",
   "metadata": {},
   "source": [
    "# Movie Theater Revenue Optimization\n",
    "\n",
    "Data Analytics & Predictive Modeling Project"
   ]
  },
  {
   "cell_type": "code",
   "execution_count": null,
   "id": "396e1cad",
   "metadata": {},
   "outputs": [],
   "source": [
    "\n",
    "import pandas as pd\n",
    "import numpy as np\n",
    "import matplotlib.pyplot as plt\n",
    "import seaborn as sns\n",
    "from sklearn.model_selection import train_test_split\n",
    "from sklearn.tree import DecisionTreeClassifier\n",
    "from sklearn.linear_model import LinearRegression\n",
    "from sklearn.metrics import accuracy_score, confusion_matrix, mean_squared_error, r2_score\n",
    "\n",
    "# Set random seed\n",
    "np.random.seed(42)\n"
   ]
  },
  {
   "cell_type": "code",
   "execution_count": null,
   "id": "0471f655",
   "metadata": {},
   "outputs": [],
   "source": [
    "\n",
    "# Load the dataset\n",
    "df = pd.read_csv('../data/movie_theater_sales.csv')\n",
    "df['Show_Date'] = pd.to_datetime(df['Show_Date'])\n",
    "df.head()\n"
   ]
  },
  {
   "cell_type": "markdown",
   "id": "671334f9",
   "metadata": {},
   "source": [
    "## Data Overview"
   ]
  },
  {
   "cell_type": "code",
   "execution_count": null,
   "id": "cafaedfc",
   "metadata": {},
   "outputs": [],
   "source": [
    "\n",
    "df.describe()\n"
   ]
  },
  {
   "cell_type": "markdown",
   "id": "8c96d8b2",
   "metadata": {},
   "source": [
    "## Feature Engineering"
   ]
  },
  {
   "cell_type": "code",
   "execution_count": null,
   "id": "f7794cdd",
   "metadata": {},
   "outputs": [],
   "source": [
    "\n",
    "revenue_median = df['Total_Revenue'].median()\n",
    "df['High_Revenue'] = (df['Total_Revenue'] > revenue_median).astype(int)\n",
    "df.head()\n"
   ]
  },
  {
   "cell_type": "markdown",
   "id": "74c346f3",
   "metadata": {},
   "source": [
    "## Exploratory Data Analysis (EDA)"
   ]
  },
  {
   "cell_type": "code",
   "execution_count": null,
   "id": "dc3940ef",
   "metadata": {},
   "outputs": [],
   "source": [
    "\n",
    "# Total Revenue by Show Time\n",
    "plt.figure(figsize=(8,5))\n",
    "sns.barplot(data=df, x='Show_Time', y='Total_Revenue', estimator=sum, ci=None, palette='coolwarm')\n",
    "plt.title('Total Revenue by Show Time')\n",
    "plt.xticks(rotation=45)\n",
    "plt.tight_layout()\n",
    "plt.show()\n"
   ]
  },
  {
   "cell_type": "code",
   "execution_count": null,
   "id": "bc6797c2",
   "metadata": {},
   "outputs": [],
   "source": [
    "\n",
    "# Average Occupancy by City\n",
    "plt.figure(figsize=(8,5))\n",
    "sns.barplot(data=df, x='City', y='Occupancy_Rate', estimator=np.mean, ci=None, palette='muted')\n",
    "plt.title('Average Occupancy Rate by City')\n",
    "plt.xticks(rotation=45)\n",
    "plt.tight_layout()\n",
    "plt.show()\n"
   ]
  },
  {
   "cell_type": "code",
   "execution_count": null,
   "id": "35d8bc63",
   "metadata": {},
   "outputs": [],
   "source": [
    "\n",
    "# Correlation Heatmap\n",
    "plt.figure(figsize=(8,6))\n",
    "sns.heatmap(df.corr(), annot=True, cmap='coolwarm', fmt=\".2f\")\n",
    "plt.title('Correlation Heatmap')\n",
    "plt.tight_layout()\n",
    "plt.show()\n"
   ]
  },
  {
   "cell_type": "markdown",
   "id": "31d7c2bb",
   "metadata": {},
   "source": [
    "## Classification Model - Decision Tree"
   ]
  },
  {
   "cell_type": "code",
   "execution_count": null,
   "id": "fcf7a0fe",
   "metadata": {},
   "outputs": [],
   "source": [
    "\n",
    "feature_cols = ['Occupancy_Rate', 'Ticket_Price', 'Tickets_Sold', 'Concession_Sales']\n",
    "X = df[feature_cols]\n",
    "y = df['High_Revenue']\n",
    "\n",
    "X_train, X_test, y_train, y_test = train_test_split(X, y, test_size=0.3, random_state=42)\n",
    "\n",
    "dtree = DecisionTreeClassifier(max_depth=5, random_state=42)\n",
    "dtree.fit(X_train, y_train)\n",
    "\n",
    "y_pred = dtree.predict(X_test)\n",
    "dtree_accuracy = accuracy_score(y_test, y_pred)\n",
    "\n",
    "print(f\"Decision Tree Classifier Accuracy: {dtree_accuracy:.2%}\")\n"
   ]
  },
  {
   "cell_type": "markdown",
   "id": "72376e55",
   "metadata": {},
   "source": [
    "## Regression Model - Linear Regression"
   ]
  },
  {
   "cell_type": "code",
   "execution_count": null,
   "id": "7ef6c286",
   "metadata": {},
   "outputs": [],
   "source": [
    "\n",
    "X_reg = df[feature_cols]\n",
    "y_reg = df['Total_Revenue']\n",
    "\n",
    "X_train_reg, X_test_reg, y_train_reg, y_test_reg = train_test_split(X_reg, y_reg, test_size=0.3, random_state=42)\n",
    "\n",
    "regressor = LinearRegression()\n",
    "regressor.fit(X_train_reg, y_train_reg)\n",
    "y_pred_reg = regressor.predict(X_test_reg)\n",
    "\n",
    "mse = mean_squared_error(y_test_reg, y_pred_reg)\n",
    "rmse = np.sqrt(mse)\n",
    "r2 = r2_score(y_test_reg, y_pred_reg)\n",
    "\n",
    "print(f\"Linear Regression RMSE: {rmse:.2f}\")\n",
    "print(f\"Linear Regression R2 Score: {r2:.2f}\")\n"
   ]
  },
  {
   "cell_type": "code",
   "execution_count": null,
   "id": "aa2ea5c2",
   "metadata": {},
   "outputs": [],
   "source": [
    "\n",
    "# Actual vs Predicted Revenue\n",
    "plt.figure(figsize=(7,5))\n",
    "sns.scatterplot(x=y_test_reg, y=y_pred_reg, alpha=0.6)\n",
    "plt.plot([y_test_reg.min(), y_test_reg.max()], [y_test_reg.min(), y_test_reg.max()], 'r--', lw=2)\n",
    "plt.xlabel('Actual Revenue')\n",
    "plt.ylabel('Predicted Revenue')\n",
    "plt.title('Actual vs Predicted Revenue (Linear Regression)')\n",
    "plt.tight_layout()\n",
    "plt.show()\n"
   ]
  },
  {
   "cell_type": "code",
   "execution_count": null,
   "id": "9c9addc7",
   "metadata": {},
   "outputs": [],
   "source": [
    "\n",
    "# Residuals distribution\n",
    "residuals = y_test_reg - y_pred_reg\n",
    "plt.figure(figsize=(7,5))\n",
    "sns.histplot(residuals, kde=True, color='purple', bins=30)\n",
    "plt.title('Distribution of Residuals (Prediction Errors)')\n",
    "plt.xlabel('Error ($)')\n",
    "plt.tight_layout()\n",
    "plt.show()\n"
   ]
  },
  {
   "cell_type": "markdown",
   "id": "8ffbef9a",
   "metadata": {},
   "source": [
    "## Final Business Recommendations"
   ]
  },
  {
   "cell_type": "markdown",
   "id": "227d9f64",
   "metadata": {},
   "source": [
    "\n",
    "- Focus on **Evening Shows** and **IMAX screens** for maximizing revenue.\n",
    "- Increase **concession sales** through promotions and upselling.\n",
    "- Use **predictive models** to optimize scheduling and pricing strategies.\n",
    "- Target underperforming cities for marketing efforts.\n"
   ]
  }
 ],
 "metadata": {},
 "nbformat": 4,
 "nbformat_minor": 5
}
